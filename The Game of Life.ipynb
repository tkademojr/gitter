{
 "cells": [
  {
   "cell_type": "code",
   "execution_count": null,
   "id": "6faece17",
   "metadata": {},
   "outputs": [],
   "source": [
    "class GameOfLife(object):  \n",
    "    \n",
    "    def __init__(self, x_dim, y_dim):\n",
    "        # Initialize a 2D list with dimensions x_dim by y_dim filled with zeros.\n",
    "        pass\n",
    "    \n",
    "    def get_grid(self):\n",
    "        # Implement a getter method for your grid.\n",
    "        pass\n",
    "\n",
    "    def print_grid(self):\n",
    "        # Implement a method to print out your grid in a human-readable format.\n",
    "        pass\n",
    "\n",
    "    def populate_grid(self, coord):\n",
    "        # Given a list of 2D coordinates (represented as tuples/lists with 2 elements each),\n",
    "        # set the corresponding elements in your grid to 1.\n",
    "        pass\n",
    "\n",
    "    def make_step(self):\n",
    "        # Implement the logic to update the game state according to the rules of Conway's Game of Life.\n",
    "        pass\n",
    "\n",
    "    def make_n_steps(self, n):\n",
    "        # Implement a method that applies the make_step method n times.\n",
    "        pass\n",
    "\n",
    "    def draw_grid(self):\n",
    "        # Draw the current state of the grid.\n",
    "        pass"
   ]
  }
 ],
 "metadata": {
  "kernelspec": {
   "display_name": "Python 3 (ipykernel)",
   "language": "python",
   "name": "python3"
  },
  "language_info": {
   "codemirror_mode": {
    "name": "ipython",
    "version": 3
   },
   "file_extension": ".py",
   "mimetype": "text/x-python",
   "name": "python",
   "nbconvert_exporter": "python",
   "pygments_lexer": "ipython3",
   "version": "3.8.8"
  }
 },
 "nbformat": 4,
 "nbformat_minor": 5
}
